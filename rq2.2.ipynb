{
 "cells": [
  {
   "cell_type": "code",
   "execution_count": 4,
   "id": "c99d0d45-50dc-4064-a25f-a5ec5ac4fbc0",
   "metadata": {},
   "outputs": [],
   "source": [
    "from collections import Counter\n",
    "import json\n",
    "import nltk\n",
    "from nltk.corpus import stopwords\n",
    "import os\n",
    "import re\n",
    "import pandas as pd"
   ]
  },
  {
   "cell_type": "code",
   "execution_count": 2,
   "id": "8b34394a-37ca-4f02-86fd-b5af58f95e58",
   "metadata": {},
   "outputs": [
    {
     "name": "stdout",
     "output_type": "stream",
     "text": [
      "Loaded 145 valid JSON result files from 'results/' and its subfolders.\n"
     ]
    }
   ],
   "source": [
    "# Load data\n",
    "folder_path = \"results/\"\n",
    "data = []\n",
    "\n",
    "for root, dirs, files in os.walk(folder_path):\n",
    "    for filename in files:\n",
    "        if filename.endswith(\".json\"):\n",
    "            file_path = os.path.join(root, filename)\n",
    "            try:\n",
    "                with open(file_path, \"r\") as f:\n",
    "                    entry = json.load(f)\n",
    "                    data.append(entry)\n",
    "            except json.JSONDecodeError as e:\n",
    "                print(f\"Skipped invalid JSON: {file_path} ({e})\")\n",
    "\n",
    "print(f\"Loaded {len(data)} valid JSON result files from '{folder_path}' and its subfolders.\")"
   ]
  },
  {
   "cell_type": "code",
   "execution_count": 5,
   "id": "27243e59-3e27-4604-a9bf-8d9cab3f25ac",
   "metadata": {},
   "outputs": [
    {
     "name": "stderr",
     "output_type": "stream",
     "text": [
      "[nltk_data] Downloading package stopwords to /home/shrey/nltk_data...\n",
      "[nltk_data]   Package stopwords is already up-to-date!\n"
     ]
    },
    {
     "name": "stdout",
     "output_type": "stream",
     "text": [
      "\\begin{tabular}{ll}\n",
      "\\toprule\n",
      "Model & Top Words \\\\\n",
      "\\midrule\n",
      "llama & human (1.3\\%), like (1.0\\%), systems (0.9\\%), could (0.9\\%), sense (0.7\\%) \\\\\n",
      "qwen & human (0.9\\%), like (0.8\\%), data (0.8\\%), could (0.8\\%), ethical (0.7\\%) \\\\\n",
      "deepseek & human (0.9\\%), might (0.6\\%), could (0.6\\%), like (0.6\\%), systems (0.6\\%) \\\\\n",
      "\\bottomrule\n",
      "\\end{tabular}\n",
      "\n"
     ]
    }
   ],
   "source": [
    "# Download stopwords if not already downloaded\n",
    "nltk.download(\"stopwords\")\n",
    "stop_words = set(stopwords.words(\"english\"))\n",
    "\n",
    "# Rebuild DataFrame\n",
    "records = []\n",
    "for entry in data:\n",
    "    for turn in entry[\"dialogue\"]:\n",
    "        agent_id = int(turn[\"role\"].split(\"_\")[1])\n",
    "        content = turn[\"content\"]\n",
    "        model = entry[\"model_general_name_0\"] if agent_id == 0 else entry[\"model_general_name_1\"]\n",
    "        records.append({\"agent_model\": model, \"content\": content})\n",
    "\n",
    "df = pd.DataFrame(records)\n",
    "\n",
    "# Clean and tokenize\n",
    "def clean_and_tokenize(text):\n",
    "    words = re.findall(r'\\b[a-z]+\\b', text.lower())\n",
    "    return [w for w in words if w not in stop_words and len(w) > 2]\n",
    "\n",
    "cleaned_word_freqs = {}\n",
    "for model in df['agent_model'].unique():\n",
    "    text = ' '.join(df[df['agent_model'] == model]['content'].astype(str))\n",
    "    words = clean_and_tokenize(text)\n",
    "    total = len(words)\n",
    "    if total == 0:\n",
    "        continue\n",
    "    freqs = Counter(words)\n",
    "    cleaned_word_freqs[model] = {w: c / total for w, c in freqs.most_common(200)}\n",
    "\n",
    "# Create a LaTeX-style table with word and relative frequency per model\n",
    "latex_rows = []\n",
    "for model, freqs in cleaned_word_freqs.items():\n",
    "    top_items = list(freqs.items())[:5]\n",
    "    words_with_freqs = [f\"{word} ({round(freq * 100, 1)}\\\\%)\" for word, freq in top_items]\n",
    "    latex_rows.append({\"Model\": model, \"Top Words\": ', '.join(words_with_freqs)})\n",
    "\n",
    "# Convert to DataFrame and generate LaTeX\n",
    "table_df = pd.DataFrame(latex_rows)\n",
    "latex_output = table_df.to_latex(index=False, escape=False)\n",
    "print(latex_output)"
   ]
  }
 ],
 "metadata": {
  "kernelspec": {
   "display_name": "Python LLMIdentifiersEnv",
   "language": "python",
   "name": "llmidentifiersenv"
  },
  "language_info": {
   "codemirror_mode": {
    "name": "ipython",
    "version": 3
   },
   "file_extension": ".py",
   "mimetype": "text/x-python",
   "name": "python",
   "nbconvert_exporter": "python",
   "pygments_lexer": "ipython3",
   "version": "3.11.11"
  }
 },
 "nbformat": 4,
 "nbformat_minor": 5
}
