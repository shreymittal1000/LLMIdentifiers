{
 "cells": [
  {
   "cell_type": "code",
   "execution_count": 1,
   "metadata": {},
   "outputs": [
    {
     "name": "stdout",
     "output_type": "stream",
     "text": [
      "/home/shrey/miniconda3/envs/LLMIdentifiersEnv/bin/python\n"
     ]
    }
   ],
   "source": [
    "import sys\n",
    "print(sys.executable)"
   ]
  },
  {
   "cell_type": "code",
   "execution_count": 2,
   "metadata": {},
   "outputs": [
    {
     "name": "stdout",
     "output_type": "stream",
     "text": [
      "Requirement already satisfied: hf_xet in /home/shrey/miniconda3/envs/LLMIdentifiersEnv/lib/python3.11/site-packages (1.1.0)\n"
     ]
    }
   ],
   "source": [
    "!/home/shrey/miniconda3/envs/LLMIdentifiersEnv/bin/python -m pip install hf_xet"
   ]
  },
  {
   "cell_type": "code",
   "execution_count": 3,
   "metadata": {
    "vscode": {
     "languageId": "plaintext"
    }
   },
   "outputs": [],
   "source": [
    "import json\n",
    "import os\n",
    "import re\n",
    "from collections import defaultdict, Counter\n",
    "import matplotlib.pyplot as plt\n",
    "import convokit\n",
    "import numpy as np\n",
    "from sklearn.metrics.pairwise import cosine_similarity\n",
    "import pandas as pd\n",
    "import seaborn as sns"
   ]
  },
  {
   "cell_type": "code",
   "execution_count": 4,
   "metadata": {
    "vscode": {
     "languageId": "plaintext"
    }
   },
   "outputs": [
    {
     "name": "stdout",
     "output_type": "stream",
     "text": [
      "Loaded 295 valid JSON result files from 'results/' and its subfolders.\n"
     ]
    }
   ],
   "source": [
    "# Load data\n",
    "folder_path = \"results/\"\n",
    "data = []\n",
    "\n",
    "for root, dirs, files in os.walk(folder_path):\n",
    "    for filename in files:\n",
    "        if filename.endswith(\".json\"):\n",
    "            file_path = os.path.join(root, filename)\n",
    "            try:\n",
    "                with open(file_path, \"r\") as f:\n",
    "                    entry = json.load(f)\n",
    "                    data.append(entry)\n",
    "            except json.JSONDecodeError as e:\n",
    "                print(f\"Skipped invalid JSON: {file_path} ({e})\")\n",
    "\n",
    "print(f\"Loaded {len(data)} valid JSON result files from '{folder_path}' and its subfolders.\")"
   ]
  },
  {
   "cell_type": "code",
   "execution_count": 5,
   "metadata": {},
   "outputs": [],
   "source": [
    "def normalize(model_name: str) -> str:\n",
    "    \"\"\"Simple normalization to compare model names.\"\"\"\n",
    "    return model_name.lower().replace(\"**\", \"\").strip()\n",
    "\n",
    "def correct_guess(guess: str, answer: str) -> bool:\n",
    "    \"\"\"Check if any meaningful word (>=3 letters) from guess appears in answer.\"\"\"\n",
    "    words = re.split(r\"[^a-zA-Z]+\", guess)  # split on anything NOT a-z or A-Z\n",
    "    for word in words:\n",
    "        if len(word) >= 3 and word.lower() in answer.lower():\n",
    "            return True\n",
    "    return False"
   ]
  },
  {
   "cell_type": "code",
   "execution_count": 6,
   "metadata": {},
   "outputs": [],
   "source": [
    "def evaluate_being_guessed(game_data_list):\n",
    "    total = 0\n",
    "    correct = 0\n",
    "    per_model_stats = defaultdict(lambda: {\"correct\": 0, \"total\": 0})\n",
    "\n",
    "    for entry in game_data_list:\n",
    "        model_0 = normalize(entry[\"model_general_name_0\"])\n",
    "        model_1 = normalize(entry[\"model_general_name_1\"])\n",
    "        guess_0 = normalize(entry[\"agent_0_guess\"])\n",
    "        guess_1 = normalize(entry[\"agent_1_guess\"])\n",
    "\n",
    "        # agent_0 is guessing model_1\n",
    "        per_model_stats[model_1][\"total\"] += 1\n",
    "        if correct_guess(guess_0, model_1):\n",
    "            correct += 1\n",
    "            per_model_stats[model_1][\"correct\"] += 1\n",
    "        \n",
    "        # agent_1 is guessing model_0\n",
    "        per_model_stats[model_0][\"total\"] += 1\n",
    "        if correct_guess(guess_1, model_0):\n",
    "            correct += 1\n",
    "            per_model_stats[model_0][\"correct\"] += 1\n",
    "\n",
    "        total += 2  # Two guesses per run\n",
    "\n",
    "    overall_accuracy = correct / total\n",
    "\n",
    "    per_model_accuracy = {\n",
    "        model: round(stats[\"correct\"] / stats[\"total\"], 3)\n",
    "        for model, stats in per_model_stats.items()\n",
    "    }\n",
    "\n",
    "    return overall_accuracy, per_model_accuracy"
   ]
  },
  {
   "cell_type": "code",
   "execution_count": 7,
   "metadata": {},
   "outputs": [
    {
     "name": "stdout",
     "output_type": "stream",
     "text": [
      "Overall Accuracy: 3.73%\n",
      "Per-Model Accuracy:\n",
      "  llama: 8.70%\n",
      "  qwen: 0.40%\n",
      "  deepseek: 0.00%\n",
      "  gpt: 0.00%\n"
     ]
    },
    {
     "data": {
      "image/png": "[encoded data removed]",
      "text/plain": [
       "<Figure size 1000x600 with 1 Axes>"
      ]
     },
     "metadata": {},
     "output_type": "display_data"
    }
   ],
   "source": [
    "overall_acc, per_model_acc = evaluate_being_guessed(data)\n",
    "print(f\"Overall Accuracy: {overall_acc:.2%}\")\n",
    "print(\"Per-Model Accuracy:\")\n",
    "for model, acc in sorted(per_model_acc.items(), key=lambda x: x[1], reverse=True):\n",
    "    print(f\"  {model}: {acc:.2%}\")\n",
    "\n",
    "models = list(per_model_acc.keys())\n",
    "accuracies = [per_model_acc[m] for m in models]\n",
    "\n",
    "plt.figure(figsize=(10, 6))\n",
    "plt.barh(models, accuracies)\n",
    "plt.xlabel(\"Accuracy\")\n",
    "plt.title(\"What Models are the easiest to guess?\")\n",
    "plt.xlim(0, 1)  # Accuracy goes from 0 to 1\n",
    "plt.gca().invert_yaxis()  # Highest accuracy at the top\n",
    "plt.grid(axis='x')\n",
    "plt.show()\n"
   ]
  },
  {
   "cell_type": "code",
   "execution_count": 8,
   "metadata": {},
   "outputs": [],
   "source": [
    "def evaluate_guessing(game_data_list):\n",
    "    total = 0\n",
    "    correct = 0\n",
    "    per_model_stats = defaultdict(lambda: {\"correct\": 0, \"total\": 0})\n",
    "\n",
    "    for entry in game_data_list:\n",
    "        model_0 = normalize(entry[\"model_general_name_0\"])\n",
    "        model_1 = normalize(entry[\"model_general_name_1\"])\n",
    "        guess_0 = normalize(entry[\"agent_0_guess\"])\n",
    "        guess_1 = normalize(entry[\"agent_1_guess\"])\n",
    "\n",
    "        # model_0 is making the guess at model_1\n",
    "        per_model_stats[model_0][\"total\"] += 1\n",
    "        if correct_guess(guess_0, model_1):\n",
    "            correct += 1\n",
    "            per_model_stats[model_0][\"correct\"] += 1\n",
    "\n",
    "        # model_1 is making the guess at model_0\n",
    "        per_model_stats[model_1][\"total\"] += 1\n",
    "        if correct_guess(guess_1, model_0):\n",
    "            correct += 1\n",
    "            per_model_stats[model_1][\"correct\"] += 1\n",
    "\n",
    "        total += 2\n",
    "\n",
    "    overall_accuracy = correct / total\n",
    "\n",
    "    per_guesser_accuracy = {\n",
    "        model: round(stats[\"correct\"] / stats[\"total\"], 3)\n",
    "        for model, stats in per_model_stats.items()\n",
    "    }\n",
    "\n",
    "    return overall_accuracy, per_guesser_accuracy, per_model_stats"
   ]
  },
  {
   "cell_type": "code",
   "execution_count": 9,
   "metadata": {},
   "outputs": [
    {
     "name": "stdout",
     "output_type": "stream",
     "text": [
      "Overall Guesser Accuracy: 3.73%\n",
      "Per-Guesser Model Accuracy:\n",
      "  qwen: 9.20%\n",
      "  deepseek: 0.80%\n",
      "  llama: 0.00%\n",
      "  gpt: 0.00%\n",
      "Guesser correct guesses and attempts:\n",
      "  qwen: 21 / 229 correct\n",
      "  deepseek: 1 / 118 correct\n",
      "  llama: 0 / 242 correct\n",
      "  gpt: 0 / 1 correct\n"
     ]
    },
    {
     "data": {
      "image/png": "[encoded data removed]",
      "text/plain": [
       "<Figure size 1000x600 with 1 Axes>"
      ]
     },
     "metadata": {},
     "output_type": "display_data"
    }
   ],
   "source": [
    "# Run evaluation for guessers\n",
    "guesser_overall_acc, per_guesser_acc, guesser_stats = evaluate_guessing(data)\n",
    "\n",
    "print(f\"Overall Guesser Accuracy: {guesser_overall_acc:.2%}\")\n",
    "print(\"Per-Guesser Model Accuracy:\")\n",
    "for model, acc in sorted(per_guesser_acc.items(), key=lambda x: x[1], reverse=True):\n",
    "    print(f\"  {model}: {acc:.2%}\")\n",
    "\n",
    "# Optional: see raw counts\n",
    "def print_guesser_counts(guesser_stats):\n",
    "    print(\"Guesser correct guesses and attempts:\")\n",
    "    for model, stats in sorted(guesser_stats.items(), key=lambda x: x[1][\"correct\"], reverse=True):\n",
    "        print(f\"  {model}: {stats['correct']} / {stats['total']} correct\")\n",
    "\n",
    "print_guesser_counts(guesser_stats)\n",
    "\n",
    "models_2 = list(per_guesser_acc.keys())\n",
    "accuracies_2 = [per_guesser_acc[m] for m in models_2]\n",
    "\n",
    "plt.figure(figsize=(10, 6))\n",
    "plt.barh(models_2, accuracies_2)\n",
    "plt.xlabel(\"Accuracy\")\n",
    "plt.title(\"What Models guess the best?\")\n",
    "plt.xlim(0, 1)  # Accuracy goes from 0 to 1\n",
    "plt.gca().invert_yaxis()  # Highest accuracy at the top\n",
    "plt.grid(axis='x')\n",
    "plt.show()"
   ]
  },
  {
   "cell_type": "code",
   "execution_count": 10,
   "metadata": {},
   "outputs": [],
   "source": [
    "def collect_guessed_models(data):\n",
    "    guessed_models_by_guesser = defaultdict(lambda: defaultdict(int))\n",
    "\n",
    "    for entry in data:\n",
    "        model_0 = normalize(entry[\"model_0\"])  # agent_0 (guesser)\n",
    "        model_1 = normalize(entry[\"model_1\"])  # agent_1 (guesser)\n",
    "\n",
    "        guess_0 = normalize(entry[\"agent_0_guess\"]).split(\" \")[0]\n",
    "        guess_1 = normalize(entry[\"agent_1_guess\"]).split(\" \")[0]\n",
    "\n",
    "        # model_0 guesses model_1\n",
    "        guessed_models_by_guesser[model_1][guess_1] += 1\n",
    "\n",
    "        # model_1 guesses model_0\n",
    "        guessed_models_by_guesser[model_1][guess_1] += 1\n",
    "\n",
    "    return guessed_models_by_guesser"
   ]
  },
  {
   "cell_type": "code",
   "execution_count": 11,
   "metadata": {},
   "outputs": [
    {
     "name": "stdout",
     "output_type": "stream",
     "text": [
      "No guesses recorded for meta-llama/llama-3.3-70b-instruct\n",
      "No guesses recorded for deepseek/deepseek-r1-distill-llama-70b\n"
     ]
    },
    {
     "data": {
      "image/png": "[encoded data removed]",
      "text/plain": [
       "<Figure size 1000x600 with 1 Axes>"
      ]
     },
     "metadata": {},
     "output_type": "display_data"
    }
   ],
   "source": [
    "def plot_model_guesses(guesser_name, guessed_models_by_guesser, top_n=10):\n",
    "    guesses = guessed_models_by_guesser.get(guesser_name, {})\n",
    "    if not guesses:\n",
    "        print(f\"No guesses recorded for {guesser_name}\")\n",
    "        return\n",
    "\n",
    "    models = list(guesses.keys())\n",
    "    counts = [guesses[m] for m in models]\n",
    "\n",
    "    # Sort from most guessed to least guessed\n",
    "    sorted_pairs = sorted(zip(models, counts), key=lambda x: x[1], reverse=True)\n",
    "\n",
    "    # Take top N\n",
    "    top_pairs = sorted_pairs[:top_n]\n",
    "    other_pairs = sorted_pairs[top_n:]\n",
    "\n",
    "    # Calculate \"Others\"\n",
    "    if other_pairs:\n",
    "        others_count = sum(count for _, count in other_pairs)\n",
    "        top_pairs.append((\"Others\", others_count))\n",
    "\n",
    "    sorted_models = [m for m, _ in top_pairs]\n",
    "    sorted_counts = [c for _, c in top_pairs]\n",
    "\n",
    "    plt.figure(figsize=(10, 6))\n",
    "    bars = plt.barh(sorted_models[::-1], sorted_counts[::-1])  # Reverse for top-down\n",
    "\n",
    "    plt.xlabel(\"Number of Times Guessed\")\n",
    "    plt.title(f\"Top {top_n} Models Guessed by {guesser_name}\")\n",
    "    plt.grid(axis=\"x\")\n",
    "\n",
    "    for bar, count in zip(bars, sorted_counts[::-1]):\n",
    "        plt.text(count + 0.5, bar.get_y() + bar.get_height() / 2,\n",
    "                 str(count), va=\"center\", ha=\"left\", fontsize=9)\n",
    "\n",
    "    plt.tight_layout()\n",
    "    \n",
    "guessed_models_by_guesser = collect_guessed_models(data)\n",
    "\n",
    "\n",
    "plot_model_guesses(\"meta-llama/llama-3.3-70b-instruct\", guessed_models_by_guesser)\n",
    "plot_model_guesses(\"qwen/qwq-32b\", guessed_models_by_guesser)\n",
    "plot_model_guesses(\"deepseek/deepseek-r1-distill-llama-70b\", guessed_models_by_guesser)"
   ]
  }
 ],
 "metadata": {
  "kernelspec": {
   "display_name": "Python LLMIdentifiersEnv",
   "language": "python",
   "name": "llmidentifiersenv"
  },
  "language_info": {
   "codemirror_mode": {
    "name": "ipython",
    "version": 3
   },
   "file_extension": ".py",
   "mimetype": "text/x-python",
   "name": "python",
   "nbconvert_exporter": "python",
   "pygments_lexer": "ipython3",
   "version": "3.11.11"
  }
 },
 "nbformat": 4,
 "nbformat_minor": 4
}
