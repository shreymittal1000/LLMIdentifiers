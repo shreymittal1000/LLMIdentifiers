{
 "cells": [
  {
   "cell_type": "code",
   "execution_count": 1,
   "id": "c99d0d45-50dc-4064-a25f-a5ec5ac4fbc0",
   "metadata": {},
   "outputs": [],
   "source": [
    "from collections import Counter\n",
    "import json\n",
    "import nltk\n",
    "from nltk.corpus import stopwords\n",
    "import os\n",
    "import re\n",
    "import pandas as pd"
   ]
  },
  {
   "cell_type": "code",
   "execution_count": 2,
   "id": "8b34394a-37ca-4f02-86fd-b5af58f95e58",
   "metadata": {},
   "outputs": [
    {
     "name": "stdout",
     "output_type": "stream",
     "text": [
      "Loaded 145 valid JSON result files from 'results/' and its subfolders.\n"
     ]
    }
   ],
   "source": [
    "# Load data\n",
    "folder_path = \"results/\"\n",
    "data = []\n",
    "\n",
    "for root, dirs, files in os.walk(folder_path):\n",
    "    for filename in files:\n",
    "        if filename.endswith(\".json\"):\n",
    "            file_path = os.path.join(root, filename)\n",
    "            try:\n",
    "                with open(file_path, \"r\") as f:\n",
    "                    entry = json.load(f)\n",
    "                    data.append(entry)\n",
    "            except json.JSONDecodeError as e:\n",
    "                print(f\"Skipped invalid JSON: {file_path} ({e})\")\n",
    "\n",
    "print(f\"Loaded {len(data)} valid JSON result files from '{folder_path}' and its subfolders.\")"
   ]
  },
  {
   "cell_type": "code",
   "execution_count": 3,
   "id": "27243e59-3e27-4604-a9bf-8d9cab3f25ac",
   "metadata": {},
   "outputs": [
    {
     "name": "stderr",
     "output_type": "stream",
     "text": [
      "[nltk_data] Downloading package stopwords to /home/shrey/nltk_data...\n",
      "[nltk_data]   Package stopwords is already up-to-date!\n"
     ]
    },
    {
     "ename": "NameError",
     "evalue": "name 'Counter' is not defined",
     "output_type": "error",
     "traceback": [
      "\u001b[31m---------------------------------------------------------------------------\u001b[39m",
      "\u001b[31mNameError\u001b[39m                                 Traceback (most recent call last)",
      "\u001b[36mCell\u001b[39m\u001b[36m \u001b[39m\u001b[32mIn[3]\u001b[39m\u001b[32m, line 28\u001b[39m\n\u001b[32m     26\u001b[39m     \u001b[38;5;28;01mif\u001b[39;00m total == \u001b[32m0\u001b[39m:\n\u001b[32m     27\u001b[39m         \u001b[38;5;28;01mcontinue\u001b[39;00m\n\u001b[32m---> \u001b[39m\u001b[32m28\u001b[39m     freqs = Counter(words)\n\u001b[32m     29\u001b[39m     cleaned_word_freqs[model] = {w: c / total \u001b[38;5;28;01mfor\u001b[39;00m w, c \u001b[38;5;129;01min\u001b[39;00m freqs.most_common(\u001b[32m200\u001b[39m)}\n\u001b[32m     31\u001b[39m \u001b[38;5;66;03m# Create a LaTeX-style table with word and relative frequency per model\u001b[39;00m\n",
      "\u001b[31mNameError\u001b[39m: name 'Counter' is not defined"
     ]
    }
   ],
   "source": [
    "# Download stopwords if not already downloaded\n",
    "nltk.download(\"stopwords\")\n",
    "stop_words = set(stopwords.words(\"english\"))\n",
    "\n",
    "# Rebuild DataFrame\n",
    "records = []\n",
    "for entry in data:\n",
    "    for turn in entry[\"dialogue\"]:\n",
    "        agent_id = int(turn[\"role\"].split(\"_\")[1])\n",
    "        content = turn[\"content\"]\n",
    "        model = entry[\"model_general_name_0\"] if agent_id == 0 else entry[\"model_general_name_1\"]\n",
    "        records.append({\"agent_model\": model, \"content\": content})\n",
    "\n",
    "df = pd.DataFrame(records)\n",
    "\n",
    "# Clean and tokenize\n",
    "def clean_and_tokenize(text):\n",
    "    words = re.findall(r'\\b[a-z]+\\b', text.lower())\n",
    "    return [w for w in words if w not in stop_words and len(w) > 2]\n",
    "\n",
    "cleaned_word_freqs = {}\n",
    "for model in df['agent_model'].unique():\n",
    "    text = ' '.join(df[df['agent_model'] == model]['content'].astype(str))\n",
    "    words = clean_and_tokenize(text)\n",
    "    total = len(words)\n",
    "    if total == 0:\n",
    "        continue\n",
    "    freqs = Counter(words)\n",
    "    cleaned_word_freqs[model] = {w: c / total for w, c in freqs.most_common(200)}\n",
    "\n",
    "# Create a LaTeX-style table with word and relative frequency per model\n",
    "latex_rows = []\n",
    "for model, freqs in cleaned_word_freqs.items():\n",
    "    top_items = list(freqs.items())[:5]\n",
    "    words_with_freqs = [f\"{word} ({round(freq * 100, 1)}\\\\%)\" for word, freq in top_items]\n",
    "    latex_rows.append({\"Model\": model, \"Top Words\": ', '.join(words_with_freqs)})\n",
    "\n",
    "# Convert to DataFrame and generate LaTeX\n",
    "table_df = pd.DataFrame(latex_rows)\n",
    "latex_output = table_df.to_latex(index=False, escape=False)\n",
    "print(latex_output)"
   ]
  }
 ],
 "metadata": {
  "kernelspec": {
   "display_name": "Python LLMIdentifiersEnv",
   "language": "python",
   "name": "llmidentifiersenv"
  },
  "language_info": {
   "codemirror_mode": {
    "name": "ipython",
    "version": 3
   },
   "file_extension": ".py",
   "mimetype": "text/x-python",
   "name": "python",
   "nbconvert_exporter": "python",
   "pygments_lexer": "ipython3",
   "version": "3.11.11"
  }
 },
 "nbformat": 4,
 "nbformat_minor": 5
}
