{
 "cells": [
  {
   "cell_type": "code",
   "execution_count": 1,
   "id": "e8ca75c1-803d-4cca-896f-50b883861709",
   "metadata": {},
   "outputs": [],
   "source": [
    "import json\n",
    "import matplotlib.pyplot as plt\n",
    "import os\n",
    "import pandas as pd\n",
    "import seaborn as sns"
   ]
  },
  {
   "cell_type": "code",
   "execution_count": 5,
   "id": "e3cfcfd0-e4df-49d9-bcb4-063b3adf41f7",
   "metadata": {},
   "outputs": [
    {
     "name": "stdout",
     "output_type": "stream",
     "text": [
      "Loaded 145 valid JSON result files from 'results/' and its subfolders.\n"
     ]
    }
   ],
   "source": [
    "# Load data\n",
    "folder_path = \"results/\"\n",
    "data = []\n",
    "\n",
    "for root, dirs, files in os.walk(folder_path):\n",
    "    for filename in files:\n",
    "        if filename.endswith(\".json\"):\n",
    "            file_path = os.path.join(root, filename)\n",
    "            try:\n",
    "                with open(file_path, \"r\") as f:\n",
    "                    entry = json.load(f)\n",
    "                    data.append(entry)\n",
    "            except json.JSONDecodeError as e:\n",
    "                print(f\"Skipped invalid JSON: {file_path} ({e})\")\n",
    "\n",
    "print(f\"Loaded {len(data)} valid JSON result files from '{folder_path}' and its subfolders.\")"
   ]
  },
  {
   "cell_type": "code",
   "execution_count": 3,
   "id": "af70143e-1abe-4125-949c-4645370f52bb",
   "metadata": {},
   "outputs": [],
   "source": [
    "# Replace this with your actual guess data\n",
    "# Example dummy counts — you should fill in your real results here\n",
    "model_names = [\"gpt\", \"llama\", \"gemini\", \"claude\", \"qwen\", \"deepseek\", \"mistral\"]\n",
    "ordered_models = model_names + [\"other\"]\n",
    "\n",
    "results = {model: {gm: 0 for gm in ordered_models} for model in model_names}\n",
    "\n",
    "for entry in data:\n",
    "    model_0 = entry[\"model_general_name_0\"].lower()\n",
    "    model_1 = entry[\"model_general_name_1\"].lower()\n",
    "    guess_0 = entry[\"agent_0_guess\"].lower()\n",
    "    guess_1 = entry[\"agent_1_guess\"].lower()\n",
    "\n",
    "    if guess_0 in model_names:\n",
    "        results[model_0][guess_0] += 1\n",
    "    else:\n",
    "        results[model_0][\"other\"] += 1\n",
    "    if guess_1 in model_names:\n",
    "        results[model_1][guess_1] += 1\n",
    "    else:\n",
    "        results[model_1][\"other\"] += 1\n",
    "\n",
    "# Convert to DataFrame\n",
    "df = pd.DataFrame(results).T\n",
    "\n",
    "# Reindex the DataFrame rows and columns\n",
    "df = df.reindex(index=model_names, columns=ordered_models, fill_value=0)"
   ]
  },
  {
   "cell_type": "code",
   "execution_count": 6,
   "id": "fbfa5198-0c49-4235-ac94-19b38a57299b",
   "metadata": {},
   "outputs": [
    {
     "name": "stderr",
     "output_type": "stream",
     "text": [
      "\n",
      "kpathsea: Running mktexfmt xelatex.fmt\n",
      "mktexfmt: mktexfmt is using the following fmtutil.cnf files (in precedence order):\n",
      "mktexfmt:   /etc/texmf/web2c/fmtutil.cnf\n",
      "mktexfmt: mktexfmt is using the following fmtutil.cnf file for writing changes:\n",
      "mktexfmt:   /home/shrey/.texlive/texmf-config/web2c/fmtutil.cnf\n",
      "mktexfmt [INFO]: writing formats under /home/shrey/.texlive/texmf-var/web2c\n",
      "mktexfmt [INFO]: Did not find entry for byfmt=xelatex skipped\n",
      "mktexfmt [INFO]: not selected formats: 8\n",
      "mktexfmt [INFO]: total formats: 8\n",
      "mktexfmt [INFO]: exiting with status 0\n"
     ]
    },
    {
     "ename": "LatexError",
     "evalue": "LaTeX errored (probably missing font or error in preamble) while processing the following input:\n\\documentclass{article}\n% !TeX program = xelatex\n\\usepackage{graphicx}\n\\def\\mathdefault#1{#1}\n\\everymath=\\expandafter{\\the\\everymath\\displaystyle}\n\\IfFileExists{scrextend.sty}{\n  \\usepackage[fontsize=10.000000pt]{scrextend}\n}{\n  \\renewcommand{\\normalsize}{\\fontsize{10.000000}{12.000000}\\selectfont}\n  \\normalsize\n}\n\n\\makeatletter\\@ifpackageloaded{underscore}{}{\\usepackage[strings]{underscore}}\\makeatother\n\\begin{document}\n\\typeout{pgf_backend_query_start}\nThis is XeTeX, Version 3.141592653-2.6-0.999997 (TeX Live 2026/dev/Arch Linux) (preloaded format=xelatex)\n restricted \\write18 enabled.\n**I can't find the format file `xelatex.fmt'!\n",
     "output_type": "error",
     "traceback": [
      "\u001b[31m---------------------------------------------------------------------------\u001b[39m",
      "\u001b[31mLatexError\u001b[39m                                Traceback (most recent call last)",
      "\u001b[36mCell\u001b[39m\u001b[36m \u001b[39m\u001b[32mIn[6]\u001b[39m\u001b[32m, line 2\u001b[39m\n\u001b[32m      1\u001b[39m plt.figure(figsize=(\u001b[32m12\u001b[39m, \u001b[32m10\u001b[39m))\n\u001b[32m----> \u001b[39m\u001b[32m2\u001b[39m ax = sns.heatmap(\n\u001b[32m      3\u001b[39m     df,\n\u001b[32m      4\u001b[39m     annot=\u001b[38;5;28;01mTrue\u001b[39;00m,\n\u001b[32m      5\u001b[39m     fmt=\u001b[33m'\u001b[39m\u001b[33md\u001b[39m\u001b[33m'\u001b[39m,\n\u001b[32m      6\u001b[39m     cmap=\u001b[33m'\u001b[39m\u001b[33mYlGnBu\u001b[39m\u001b[33m'\u001b[39m,\n\u001b[32m      7\u001b[39m     linewidths=\u001b[32m0.5\u001b[39m,\n\u001b[32m      8\u001b[39m     cbar_kws={\u001b[33m\"\u001b[39m\u001b[33mshrink\u001b[39m\u001b[33m\"\u001b[39m: \u001b[32m0.8\u001b[39m},\n\u001b[32m      9\u001b[39m     square=\u001b[38;5;28;01mTrue\u001b[39;00m\n\u001b[32m     10\u001b[39m )\n\u001b[32m     12\u001b[39m \u001b[38;5;66;03m# Axis titles\u001b[39;00m\n\u001b[32m     13\u001b[39m plt.title(\u001b[33m\"\u001b[39m\u001b[33mLLM Identifier Game: Model Guess Frequencies\u001b[39m\u001b[33m\"\u001b[39m, fontsize=\u001b[32m18\u001b[39m, pad=\u001b[32m20\u001b[39m)\n",
      "\u001b[36mFile \u001b[39m\u001b[32m~/miniconda3/envs/LLMIdentifiersEnv/lib/python3.11/site-packages/seaborn/matrix.py:459\u001b[39m, in \u001b[36mheatmap\u001b[39m\u001b[34m(data, vmin, vmax, cmap, center, robust, annot, fmt, annot_kws, linewidths, linecolor, cbar, cbar_kws, cbar_ax, square, xticklabels, yticklabels, mask, ax, **kwargs)\u001b[39m\n\u001b[32m    457\u001b[39m \u001b[38;5;28;01mif\u001b[39;00m square:\n\u001b[32m    458\u001b[39m     ax.set_aspect(\u001b[33m\"\u001b[39m\u001b[33mequal\u001b[39m\u001b[33m\"\u001b[39m)\n\u001b[32m--> \u001b[39m\u001b[32m459\u001b[39m plotter.plot(ax, cbar_ax, kwargs)\n\u001b[32m    460\u001b[39m \u001b[38;5;28;01mreturn\u001b[39;00m ax\n",
      "\u001b[36mFile \u001b[39m\u001b[32m~/miniconda3/envs/LLMIdentifiersEnv/lib/python3.11/site-packages/seaborn/matrix.py:340\u001b[39m, in \u001b[36m_HeatMapper.plot\u001b[39m\u001b[34m(self, ax, cax, kws)\u001b[39m\n\u001b[32m    337\u001b[39m plt.setp(ytl, va=\u001b[33m\"\u001b[39m\u001b[33mcenter\u001b[39m\u001b[33m\"\u001b[39m)  \u001b[38;5;66;03m# GH2484\u001b[39;00m\n\u001b[32m    339\u001b[39m \u001b[38;5;66;03m# Possibly rotate them if they overlap\u001b[39;00m\n\u001b[32m--> \u001b[39m\u001b[32m340\u001b[39m _draw_figure(ax.figure)\n\u001b[32m    342\u001b[39m \u001b[38;5;28;01mif\u001b[39;00m axis_ticklabels_overlap(xtl):\n\u001b[32m    343\u001b[39m     plt.setp(xtl, rotation=\u001b[33m\"\u001b[39m\u001b[33mvertical\u001b[39m\u001b[33m\"\u001b[39m)\n",
      "\u001b[36mFile \u001b[39m\u001b[32m~/miniconda3/envs/LLMIdentifiersEnv/lib/python3.11/site-packages/seaborn/utils.py:61\u001b[39m, in \u001b[36m_draw_figure\u001b[39m\u001b[34m(fig)\u001b[39m\n\u001b[32m     59\u001b[39m \u001b[38;5;250m\u001b[39m\u001b[33;03m\"\"\"Force draw of a matplotlib figure, accounting for back-compat.\"\"\"\u001b[39;00m\n\u001b[32m     60\u001b[39m \u001b[38;5;66;03m# See https://github.com/matplotlib/matplotlib/issues/19197 for context\u001b[39;00m\n\u001b[32m---> \u001b[39m\u001b[32m61\u001b[39m fig.canvas.draw()\n\u001b[32m     62\u001b[39m \u001b[38;5;28;01mif\u001b[39;00m fig.stale:\n\u001b[32m     63\u001b[39m     \u001b[38;5;28;01mtry\u001b[39;00m:\n",
      "\u001b[36mFile \u001b[39m\u001b[32m~/miniconda3/envs/LLMIdentifiersEnv/lib/python3.11/site-packages/matplotlib/backends/backend_pgf.py:873\u001b[39m, in \u001b[36mFigureCanvasPgf.draw\u001b[39m\u001b[34m(self)\u001b[39m\n\u001b[32m    872\u001b[39m \u001b[38;5;28;01mdef\u001b[39;00m\u001b[38;5;250m \u001b[39m\u001b[34mdraw\u001b[39m(\u001b[38;5;28mself\u001b[39m):\n\u001b[32m--> \u001b[39m\u001b[32m873\u001b[39m     \u001b[38;5;28mself\u001b[39m.figure.draw_without_rendering()\n\u001b[32m    874\u001b[39m     \u001b[38;5;28;01mreturn\u001b[39;00m \u001b[38;5;28msuper\u001b[39m().draw()\n",
      "\u001b[36mFile \u001b[39m\u001b[32m~/miniconda3/envs/LLMIdentifiersEnv/lib/python3.11/site-packages/matplotlib/figure.py:3273\u001b[39m, in \u001b[36mFigure.draw_without_rendering\u001b[39m\u001b[34m(self)\u001b[39m\n\u001b[32m   3271\u001b[39m renderer = _get_renderer(\u001b[38;5;28mself\u001b[39m)\n\u001b[32m   3272\u001b[39m \u001b[38;5;28;01mwith\u001b[39;00m renderer._draw_disabled():\n\u001b[32m-> \u001b[39m\u001b[32m3273\u001b[39m     \u001b[38;5;28mself\u001b[39m.draw(renderer)\n",
      "\u001b[36mFile \u001b[39m\u001b[32m~/miniconda3/envs/LLMIdentifiersEnv/lib/python3.11/site-packages/matplotlib/artist.py:94\u001b[39m, in \u001b[36m_finalize_rasterization.<locals>.draw_wrapper\u001b[39m\u001b[34m(artist, renderer, *args, **kwargs)\u001b[39m\n\u001b[32m     92\u001b[39m \u001b[38;5;129m@wraps\u001b[39m(draw)\n\u001b[32m     93\u001b[39m \u001b[38;5;28;01mdef\u001b[39;00m\u001b[38;5;250m \u001b[39m\u001b[34mdraw_wrapper\u001b[39m(artist, renderer, *args, **kwargs):\n\u001b[32m---> \u001b[39m\u001b[32m94\u001b[39m     result = draw(artist, renderer, *args, **kwargs)\n\u001b[32m     95\u001b[39m     \u001b[38;5;28;01mif\u001b[39;00m renderer._rasterizing:\n\u001b[32m     96\u001b[39m         renderer.stop_rasterizing()\n",
      "\u001b[36mFile \u001b[39m\u001b[32m~/miniconda3/envs/LLMIdentifiersEnv/lib/python3.11/site-packages/matplotlib/artist.py:71\u001b[39m, in \u001b[36mallow_rasterization.<locals>.draw_wrapper\u001b[39m\u001b[34m(artist, renderer)\u001b[39m\n\u001b[32m     68\u001b[39m     \u001b[38;5;28;01mif\u001b[39;00m artist.get_agg_filter() \u001b[38;5;129;01mis\u001b[39;00m \u001b[38;5;129;01mnot\u001b[39;00m \u001b[38;5;28;01mNone\u001b[39;00m:\n\u001b[32m     69\u001b[39m         renderer.start_filter()\n\u001b[32m---> \u001b[39m\u001b[32m71\u001b[39m     \u001b[38;5;28;01mreturn\u001b[39;00m draw(artist, renderer)\n\u001b[32m     72\u001b[39m \u001b[38;5;28;01mfinally\u001b[39;00m:\n\u001b[32m     73\u001b[39m     \u001b[38;5;28;01mif\u001b[39;00m artist.get_agg_filter() \u001b[38;5;129;01mis\u001b[39;00m \u001b[38;5;129;01mnot\u001b[39;00m \u001b[38;5;28;01mNone\u001b[39;00m:\n",
      "\u001b[36mFile \u001b[39m\u001b[32m~/miniconda3/envs/LLMIdentifiersEnv/lib/python3.11/site-packages/matplotlib/figure.py:3257\u001b[39m, in \u001b[36mFigure.draw\u001b[39m\u001b[34m(self, renderer)\u001b[39m\n\u001b[32m   3254\u001b[39m             \u001b[38;5;66;03m# ValueError can occur when resizing a window.\u001b[39;00m\n\u001b[32m   3256\u001b[39m     \u001b[38;5;28mself\u001b[39m.patch.draw(renderer)\n\u001b[32m-> \u001b[39m\u001b[32m3257\u001b[39m     mimage._draw_list_compositing_images(\n\u001b[32m   3258\u001b[39m         renderer, \u001b[38;5;28mself\u001b[39m, artists, \u001b[38;5;28mself\u001b[39m.suppressComposite)\n\u001b[32m   3260\u001b[39m     renderer.close_group(\u001b[33m'\u001b[39m\u001b[33mfigure\u001b[39m\u001b[33m'\u001b[39m)\n\u001b[32m   3261\u001b[39m \u001b[38;5;28;01mfinally\u001b[39;00m:\n",
      "\u001b[36mFile \u001b[39m\u001b[32m~/miniconda3/envs/LLMIdentifiersEnv/lib/python3.11/site-packages/matplotlib/image.py:134\u001b[39m, in \u001b[36m_draw_list_compositing_images\u001b[39m\u001b[34m(renderer, parent, artists, suppress_composite)\u001b[39m\n\u001b[32m    132\u001b[39m \u001b[38;5;28;01mif\u001b[39;00m not_composite \u001b[38;5;129;01mor\u001b[39;00m \u001b[38;5;129;01mnot\u001b[39;00m has_images:\n\u001b[32m    133\u001b[39m     \u001b[38;5;28;01mfor\u001b[39;00m a \u001b[38;5;129;01min\u001b[39;00m artists:\n\u001b[32m--> \u001b[39m\u001b[32m134\u001b[39m         a.draw(renderer)\n\u001b[32m    135\u001b[39m \u001b[38;5;28;01melse\u001b[39;00m:\n\u001b[32m    136\u001b[39m     \u001b[38;5;66;03m# Composite any adjacent images together\u001b[39;00m\n\u001b[32m    137\u001b[39m     image_group = []\n",
      "\u001b[36mFile \u001b[39m\u001b[32m~/miniconda3/envs/LLMIdentifiersEnv/lib/python3.11/site-packages/matplotlib/artist.py:71\u001b[39m, in \u001b[36mallow_rasterization.<locals>.draw_wrapper\u001b[39m\u001b[34m(artist, renderer)\u001b[39m\n\u001b[32m     68\u001b[39m     \u001b[38;5;28;01mif\u001b[39;00m artist.get_agg_filter() \u001b[38;5;129;01mis\u001b[39;00m \u001b[38;5;129;01mnot\u001b[39;00m \u001b[38;5;28;01mNone\u001b[39;00m:\n\u001b[32m     69\u001b[39m         renderer.start_filter()\n\u001b[32m---> \u001b[39m\u001b[32m71\u001b[39m     \u001b[38;5;28;01mreturn\u001b[39;00m draw(artist, renderer)\n\u001b[32m     72\u001b[39m \u001b[38;5;28;01mfinally\u001b[39;00m:\n\u001b[32m     73\u001b[39m     \u001b[38;5;28;01mif\u001b[39;00m artist.get_agg_filter() \u001b[38;5;129;01mis\u001b[39;00m \u001b[38;5;129;01mnot\u001b[39;00m \u001b[38;5;28;01mNone\u001b[39;00m:\n",
      "\u001b[36mFile \u001b[39m\u001b[32m~/miniconda3/envs/LLMIdentifiersEnv/lib/python3.11/site-packages/matplotlib/axes/_base.py:3210\u001b[39m, in \u001b[36m_AxesBase.draw\u001b[39m\u001b[34m(self, renderer)\u001b[39m\n\u001b[32m   3207\u001b[39m \u001b[38;5;28;01mif\u001b[39;00m artists_rasterized:\n\u001b[32m   3208\u001b[39m     _draw_rasterized(\u001b[38;5;28mself\u001b[39m.get_figure(root=\u001b[38;5;28;01mTrue\u001b[39;00m), artists_rasterized, renderer)\n\u001b[32m-> \u001b[39m\u001b[32m3210\u001b[39m mimage._draw_list_compositing_images(\n\u001b[32m   3211\u001b[39m     renderer, \u001b[38;5;28mself\u001b[39m, artists, \u001b[38;5;28mself\u001b[39m.get_figure(root=\u001b[38;5;28;01mTrue\u001b[39;00m).suppressComposite)\n\u001b[32m   3213\u001b[39m renderer.close_group(\u001b[33m'\u001b[39m\u001b[33maxes\u001b[39m\u001b[33m'\u001b[39m)\n\u001b[32m   3214\u001b[39m \u001b[38;5;28mself\u001b[39m.stale = \u001b[38;5;28;01mFalse\u001b[39;00m\n",
      "\u001b[36mFile \u001b[39m\u001b[32m~/miniconda3/envs/LLMIdentifiersEnv/lib/python3.11/site-packages/matplotlib/image.py:134\u001b[39m, in \u001b[36m_draw_list_compositing_images\u001b[39m\u001b[34m(renderer, parent, artists, suppress_composite)\u001b[39m\n\u001b[32m    132\u001b[39m \u001b[38;5;28;01mif\u001b[39;00m not_composite \u001b[38;5;129;01mor\u001b[39;00m \u001b[38;5;129;01mnot\u001b[39;00m has_images:\n\u001b[32m    133\u001b[39m     \u001b[38;5;28;01mfor\u001b[39;00m a \u001b[38;5;129;01min\u001b[39;00m artists:\n\u001b[32m--> \u001b[39m\u001b[32m134\u001b[39m         a.draw(renderer)\n\u001b[32m    135\u001b[39m \u001b[38;5;28;01melse\u001b[39;00m:\n\u001b[32m    136\u001b[39m     \u001b[38;5;66;03m# Composite any adjacent images together\u001b[39;00m\n\u001b[32m    137\u001b[39m     image_group = []\n",
      "\u001b[36mFile \u001b[39m\u001b[32m~/miniconda3/envs/LLMIdentifiersEnv/lib/python3.11/site-packages/matplotlib/artist.py:71\u001b[39m, in \u001b[36mallow_rasterization.<locals>.draw_wrapper\u001b[39m\u001b[34m(artist, renderer)\u001b[39m\n\u001b[32m     68\u001b[39m     \u001b[38;5;28;01mif\u001b[39;00m artist.get_agg_filter() \u001b[38;5;129;01mis\u001b[39;00m \u001b[38;5;129;01mnot\u001b[39;00m \u001b[38;5;28;01mNone\u001b[39;00m:\n\u001b[32m     69\u001b[39m         renderer.start_filter()\n\u001b[32m---> \u001b[39m\u001b[32m71\u001b[39m     \u001b[38;5;28;01mreturn\u001b[39;00m draw(artist, renderer)\n\u001b[32m     72\u001b[39m \u001b[38;5;28;01mfinally\u001b[39;00m:\n\u001b[32m     73\u001b[39m     \u001b[38;5;28;01mif\u001b[39;00m artist.get_agg_filter() \u001b[38;5;129;01mis\u001b[39;00m \u001b[38;5;129;01mnot\u001b[39;00m \u001b[38;5;28;01mNone\u001b[39;00m:\n",
      "\u001b[36mFile \u001b[39m\u001b[32m~/miniconda3/envs/LLMIdentifiersEnv/lib/python3.11/site-packages/matplotlib/axis.py:1405\u001b[39m, in \u001b[36mAxis.draw\u001b[39m\u001b[34m(self, renderer)\u001b[39m\n\u001b[32m   1402\u001b[39m renderer.open_group(\u001b[34m__name__\u001b[39m, gid=\u001b[38;5;28mself\u001b[39m.get_gid())\n\u001b[32m   1404\u001b[39m ticks_to_draw = \u001b[38;5;28mself\u001b[39m._update_ticks()\n\u001b[32m-> \u001b[39m\u001b[32m1405\u001b[39m tlb1, tlb2 = \u001b[38;5;28mself\u001b[39m._get_ticklabel_bboxes(ticks_to_draw, renderer)\n\u001b[32m   1407\u001b[39m \u001b[38;5;28;01mfor\u001b[39;00m tick \u001b[38;5;129;01min\u001b[39;00m ticks_to_draw:\n\u001b[32m   1408\u001b[39m     tick.draw(renderer)\n",
      "\u001b[36mFile \u001b[39m\u001b[32m~/miniconda3/envs/LLMIdentifiersEnv/lib/python3.11/site-packages/matplotlib/axis.py:1332\u001b[39m, in \u001b[36mAxis._get_ticklabel_bboxes\u001b[39m\u001b[34m(self, ticks, renderer)\u001b[39m\n\u001b[32m   1330\u001b[39m \u001b[38;5;28;01mif\u001b[39;00m renderer \u001b[38;5;129;01mis\u001b[39;00m \u001b[38;5;28;01mNone\u001b[39;00m:\n\u001b[32m   1331\u001b[39m     renderer = \u001b[38;5;28mself\u001b[39m.get_figure(root=\u001b[38;5;28;01mTrue\u001b[39;00m)._get_renderer()\n\u001b[32m-> \u001b[39m\u001b[32m1332\u001b[39m \u001b[38;5;28;01mreturn\u001b[39;00m ([tick.label1.get_window_extent(renderer)\n\u001b[32m   1333\u001b[39m          \u001b[38;5;28;01mfor\u001b[39;00m tick \u001b[38;5;129;01min\u001b[39;00m ticks \u001b[38;5;28;01mif\u001b[39;00m tick.label1.get_visible()],\n\u001b[32m   1334\u001b[39m         [tick.label2.get_window_extent(renderer)\n\u001b[32m   1335\u001b[39m          \u001b[38;5;28;01mfor\u001b[39;00m tick \u001b[38;5;129;01min\u001b[39;00m ticks \u001b[38;5;28;01mif\u001b[39;00m tick.label2.get_visible()])\n",
      "\u001b[36mFile \u001b[39m\u001b[32m~/miniconda3/envs/LLMIdentifiersEnv/lib/python3.11/site-packages/matplotlib/axis.py:1332\u001b[39m, in \u001b[36m<listcomp>\u001b[39m\u001b[34m(.0)\u001b[39m\n\u001b[32m   1330\u001b[39m \u001b[38;5;28;01mif\u001b[39;00m renderer \u001b[38;5;129;01mis\u001b[39;00m \u001b[38;5;28;01mNone\u001b[39;00m:\n\u001b[32m   1331\u001b[39m     renderer = \u001b[38;5;28mself\u001b[39m.get_figure(root=\u001b[38;5;28;01mTrue\u001b[39;00m)._get_renderer()\n\u001b[32m-> \u001b[39m\u001b[32m1332\u001b[39m \u001b[38;5;28;01mreturn\u001b[39;00m ([tick.label1.get_window_extent(renderer)\n\u001b[32m   1333\u001b[39m          \u001b[38;5;28;01mfor\u001b[39;00m tick \u001b[38;5;129;01min\u001b[39;00m ticks \u001b[38;5;28;01mif\u001b[39;00m tick.label1.get_visible()],\n\u001b[32m   1334\u001b[39m         [tick.label2.get_window_extent(renderer)\n\u001b[32m   1335\u001b[39m          \u001b[38;5;28;01mfor\u001b[39;00m tick \u001b[38;5;129;01min\u001b[39;00m ticks \u001b[38;5;28;01mif\u001b[39;00m tick.label2.get_visible()])\n",
      "\u001b[36mFile \u001b[39m\u001b[32m~/miniconda3/envs/LLMIdentifiersEnv/lib/python3.11/site-packages/matplotlib/text.py:969\u001b[39m, in \u001b[36mText.get_window_extent\u001b[39m\u001b[34m(self, renderer, dpi)\u001b[39m\n\u001b[32m    964\u001b[39m     \u001b[38;5;28;01mraise\u001b[39;00m \u001b[38;5;167;01mRuntimeError\u001b[39;00m(\n\u001b[32m    965\u001b[39m         \u001b[33m\"\u001b[39m\u001b[33mCannot get window extent of text w/o renderer. You likely \u001b[39m\u001b[33m\"\u001b[39m\n\u001b[32m    966\u001b[39m         \u001b[33m\"\u001b[39m\u001b[33mwant to call \u001b[39m\u001b[33m'\u001b[39m\u001b[33mfigure.draw_without_rendering()\u001b[39m\u001b[33m'\u001b[39m\u001b[33m first.\u001b[39m\u001b[33m\"\u001b[39m)\n\u001b[32m    968\u001b[39m \u001b[38;5;28;01mwith\u001b[39;00m cbook._setattr_cm(fig, dpi=dpi):\n\u001b[32m--> \u001b[39m\u001b[32m969\u001b[39m     bbox, info, descent = \u001b[38;5;28mself\u001b[39m._get_layout(\u001b[38;5;28mself\u001b[39m._renderer)\n\u001b[32m    970\u001b[39m     x, y = \u001b[38;5;28mself\u001b[39m.get_unitless_position()\n\u001b[32m    971\u001b[39m     x, y = \u001b[38;5;28mself\u001b[39m.get_transform().transform((x, y))\n",
      "\u001b[36mFile \u001b[39m\u001b[32m~/miniconda3/envs/LLMIdentifiersEnv/lib/python3.11/site-packages/matplotlib/text.py:373\u001b[39m, in \u001b[36mText._get_layout\u001b[39m\u001b[34m(self, renderer)\u001b[39m\n\u001b[32m    370\u001b[39m ys = []\n\u001b[32m    372\u001b[39m \u001b[38;5;66;03m# Full vertical extent of font, including ascenders and descenders:\u001b[39;00m\n\u001b[32m--> \u001b[39m\u001b[32m373\u001b[39m _, lp_h, lp_d = _get_text_metrics_with_cache(\n\u001b[32m    374\u001b[39m     renderer, \u001b[33m\"\u001b[39m\u001b[33mlp\u001b[39m\u001b[33m\"\u001b[39m, \u001b[38;5;28mself\u001b[39m._fontproperties,\n\u001b[32m    375\u001b[39m     ismath=\u001b[33m\"\u001b[39m\u001b[33mTeX\u001b[39m\u001b[33m\"\u001b[39m \u001b[38;5;28;01mif\u001b[39;00m \u001b[38;5;28mself\u001b[39m.get_usetex() \u001b[38;5;28;01melse\u001b[39;00m \u001b[38;5;28;01mFalse\u001b[39;00m,\n\u001b[32m    376\u001b[39m     dpi=\u001b[38;5;28mself\u001b[39m.get_figure(root=\u001b[38;5;28;01mTrue\u001b[39;00m).dpi)\n\u001b[32m    377\u001b[39m min_dy = (lp_h - lp_d) * \u001b[38;5;28mself\u001b[39m._linespacing\n\u001b[32m    379\u001b[39m \u001b[38;5;28;01mfor\u001b[39;00m i, line \u001b[38;5;129;01min\u001b[39;00m \u001b[38;5;28menumerate\u001b[39m(lines):\n",
      "\u001b[36mFile \u001b[39m\u001b[32m~/miniconda3/envs/LLMIdentifiersEnv/lib/python3.11/site-packages/matplotlib/text.py:69\u001b[39m, in \u001b[36m_get_text_metrics_with_cache\u001b[39m\u001b[34m(renderer, text, fontprop, ismath, dpi)\u001b[39m\n\u001b[32m     66\u001b[39m \u001b[38;5;250m\u001b[39m\u001b[33;03m\"\"\"Call ``renderer.get_text_width_height_descent``, caching the results.\"\"\"\u001b[39;00m\n\u001b[32m     67\u001b[39m \u001b[38;5;66;03m# Cached based on a copy of fontprop so that later in-place mutations of\u001b[39;00m\n\u001b[32m     68\u001b[39m \u001b[38;5;66;03m# the passed-in argument do not mess up the cache.\u001b[39;00m\n\u001b[32m---> \u001b[39m\u001b[32m69\u001b[39m \u001b[38;5;28;01mreturn\u001b[39;00m _get_text_metrics_with_cache_impl(\n\u001b[32m     70\u001b[39m     weakref.ref(renderer), text, fontprop.copy(), ismath, dpi)\n",
      "\u001b[36mFile \u001b[39m\u001b[32m~/miniconda3/envs/LLMIdentifiersEnv/lib/python3.11/site-packages/matplotlib/text.py:77\u001b[39m, in \u001b[36m_get_text_metrics_with_cache_impl\u001b[39m\u001b[34m(renderer_ref, text, fontprop, ismath, dpi)\u001b[39m\n\u001b[32m     73\u001b[39m \u001b[38;5;129m@functools\u001b[39m.lru_cache(\u001b[32m4096\u001b[39m)\n\u001b[32m     74\u001b[39m \u001b[38;5;28;01mdef\u001b[39;00m\u001b[38;5;250m \u001b[39m\u001b[34m_get_text_metrics_with_cache_impl\u001b[39m(\n\u001b[32m     75\u001b[39m         renderer_ref, text, fontprop, ismath, dpi):\n\u001b[32m     76\u001b[39m     \u001b[38;5;66;03m# dpi is unused, but participates in cache invalidation (via the renderer).\u001b[39;00m\n\u001b[32m---> \u001b[39m\u001b[32m77\u001b[39m     \u001b[38;5;28;01mreturn\u001b[39;00m renderer_ref().get_text_width_height_descent(text, fontprop, ismath)\n",
      "\u001b[36mFile \u001b[39m\u001b[32m~/miniconda3/envs/LLMIdentifiersEnv/lib/python3.11/site-packages/matplotlib/backends/backend_pgf.py:727\u001b[39m, in \u001b[36mRendererPgf.get_text_width_height_descent\u001b[39m\u001b[34m(self, s, prop, ismath)\u001b[39m\n\u001b[32m    724\u001b[39m \u001b[38;5;28;01mdef\u001b[39;00m\u001b[38;5;250m \u001b[39m\u001b[34mget_text_width_height_descent\u001b[39m(\u001b[38;5;28mself\u001b[39m, s, prop, ismath):\n\u001b[32m    725\u001b[39m     \u001b[38;5;66;03m# docstring inherited\u001b[39;00m\n\u001b[32m    726\u001b[39m     \u001b[38;5;66;03m# get text metrics in units of latex pt, convert to display units\u001b[39;00m\n\u001b[32m--> \u001b[39m\u001b[32m727\u001b[39m     w, h, d = (LatexManager._get_cached_or_new()\n\u001b[32m    728\u001b[39m                .get_width_height_descent(s, prop))\n\u001b[32m    729\u001b[39m     \u001b[38;5;66;03m# TODO: this should be latex_pt_to_in instead of mpl_pt_to_in\u001b[39;00m\n\u001b[32m    730\u001b[39m     \u001b[38;5;66;03m# but having a little bit more space around the text looks better,\u001b[39;00m\n\u001b[32m    731\u001b[39m     \u001b[38;5;66;03m# plus the bounding box reported by LaTeX is VERY narrow\u001b[39;00m\n\u001b[32m    732\u001b[39m     f = mpl_pt_to_in * \u001b[38;5;28mself\u001b[39m.dpi\n",
      "\u001b[36mFile \u001b[39m\u001b[32m~/miniconda3/envs/LLMIdentifiersEnv/lib/python3.11/site-packages/matplotlib/backends/backend_pgf.py:226\u001b[39m, in \u001b[36mLatexManager._get_cached_or_new\u001b[39m\u001b[34m(cls)\u001b[39m\n\u001b[32m    220\u001b[39m \u001b[38;5;129m@classmethod\u001b[39m\n\u001b[32m    221\u001b[39m \u001b[38;5;28;01mdef\u001b[39;00m\u001b[38;5;250m \u001b[39m\u001b[34m_get_cached_or_new\u001b[39m(\u001b[38;5;28mcls\u001b[39m):\n\u001b[32m    222\u001b[39m \u001b[38;5;250m    \u001b[39m\u001b[33;03m\"\"\"\u001b[39;00m\n\u001b[32m    223\u001b[39m \u001b[33;03m    Return the previous LatexManager if the header and tex system did not\u001b[39;00m\n\u001b[32m    224\u001b[39m \u001b[33;03m    change, or a new instance otherwise.\u001b[39;00m\n\u001b[32m    225\u001b[39m \u001b[33;03m    \"\"\"\u001b[39;00m\n\u001b[32m--> \u001b[39m\u001b[32m226\u001b[39m     \u001b[38;5;28;01mreturn\u001b[39;00m \u001b[38;5;28mcls\u001b[39m._get_cached_or_new_impl(\u001b[38;5;28mcls\u001b[39m._build_latex_header())\n",
      "\u001b[36mFile \u001b[39m\u001b[32m~/miniconda3/envs/LLMIdentifiersEnv/lib/python3.11/site-packages/matplotlib/backends/backend_pgf.py:231\u001b[39m, in \u001b[36mLatexManager._get_cached_or_new_impl\u001b[39m\u001b[34m(cls, header)\u001b[39m\n\u001b[32m    228\u001b[39m \u001b[38;5;129m@classmethod\u001b[39m\n\u001b[32m    229\u001b[39m \u001b[38;5;129m@functools\u001b[39m.lru_cache(\u001b[32m1\u001b[39m)\n\u001b[32m    230\u001b[39m \u001b[38;5;28;01mdef\u001b[39;00m\u001b[38;5;250m \u001b[39m\u001b[34m_get_cached_or_new_impl\u001b[39m(\u001b[38;5;28mcls\u001b[39m, header):  \u001b[38;5;66;03m# Helper for _get_cached_or_new.\u001b[39;00m\n\u001b[32m--> \u001b[39m\u001b[32m231\u001b[39m     \u001b[38;5;28;01mreturn\u001b[39;00m \u001b[38;5;28mcls\u001b[39m()\n",
      "\u001b[36mFile \u001b[39m\u001b[32m~/miniconda3/envs/LLMIdentifiersEnv/lib/python3.11/site-packages/matplotlib/backends/backend_pgf.py:267\u001b[39m, in \u001b[36mLatexManager.__init__\u001b[39m\u001b[34m(self)\u001b[39m\n\u001b[32m    265\u001b[39m stdout, stderr = \u001b[38;5;28mself\u001b[39m.latex.communicate(\u001b[33m\"\u001b[39m\u001b[38;5;130;01m\\n\u001b[39;00m\u001b[38;5;130;01m\\\\\u001b[39;00m\u001b[33mmakeatletter\u001b[39m\u001b[38;5;130;01m\\\\\u001b[39;00m\u001b[33m@@end\u001b[39m\u001b[38;5;130;01m\\n\u001b[39;00m\u001b[33m\"\u001b[39m)\n\u001b[32m    266\u001b[39m \u001b[38;5;28;01mif\u001b[39;00m \u001b[38;5;28mself\u001b[39m.latex.returncode != \u001b[32m0\u001b[39m:\n\u001b[32m--> \u001b[39m\u001b[32m267\u001b[39m     \u001b[38;5;28;01mraise\u001b[39;00m LatexError(\n\u001b[32m    268\u001b[39m         \u001b[33mf\u001b[39m\u001b[33m\"\u001b[39m\u001b[33mLaTeX errored (probably missing font or error in preamble) \u001b[39m\u001b[33m\"\u001b[39m\n\u001b[32m    269\u001b[39m         \u001b[33mf\u001b[39m\u001b[33m\"\u001b[39m\u001b[33mwhile processing the following input:\u001b[39m\u001b[38;5;130;01m\\n\u001b[39;00m\u001b[33m\"\u001b[39m\n\u001b[32m    270\u001b[39m         \u001b[33mf\u001b[39m\u001b[33m\"\u001b[39m\u001b[38;5;132;01m{\u001b[39;00m\u001b[38;5;28mself\u001b[39m._build_latex_header()\u001b[38;5;132;01m}\u001b[39;00m\u001b[33m\"\u001b[39m,\n\u001b[32m    271\u001b[39m         stdout)\n\u001b[32m    272\u001b[39m \u001b[38;5;28mself\u001b[39m.latex = \u001b[38;5;28;01mNone\u001b[39;00m  \u001b[38;5;66;03m# Will be set up on first use.\u001b[39;00m\n\u001b[32m    273\u001b[39m \u001b[38;5;66;03m# Per-instance cache.\u001b[39;00m\n",
      "\u001b[31mLatexError\u001b[39m: LaTeX errored (probably missing font or error in preamble) while processing the following input:\n\\documentclass{article}\n% !TeX program = xelatex\n\\usepackage{graphicx}\n\\def\\mathdefault#1{#1}\n\\everymath=\\expandafter{\\the\\everymath\\displaystyle}\n\\IfFileExists{scrextend.sty}{\n  \\usepackage[fontsize=10.000000pt]{scrextend}\n}{\n  \\renewcommand{\\normalsize}{\\fontsize{10.000000}{12.000000}\\selectfont}\n  \\normalsize\n}\n\n\\makeatletter\\@ifpackageloaded{underscore}{}{\\usepackage[strings]{underscore}}\\makeatother\n\\begin{document}\n\\typeout{pgf_backend_query_start}\nThis is XeTeX, Version 3.141592653-2.6-0.999997 (TeX Live 2026/dev/Arch Linux) (preloaded format=xelatex)\n restricted \\write18 enabled.\n**I can't find the format file `xelatex.fmt'!\n"
     ]
    }
   ],
   "source": [
    "plt.figure(figsize=(12, 10))\n",
    "ax = sns.heatmap(\n",
    "    df,\n",
    "    annot=True,\n",
    "    fmt='d',\n",
    "    cmap='YlGnBu',\n",
    "    linewidths=0.5,\n",
    "    cbar_kws={\"shrink\": 0.8},\n",
    "    square=True\n",
    ")\n",
    "\n",
    "# Axis titles\n",
    "plt.title(\"LLM Identifier Game: Model Guess Frequencies\", fontsize=18, pad=20)\n",
    "plt.xlabel(\"Guessed Model\", fontsize=14, labelpad=15)\n",
    "plt.ylabel(\"Guesser Model\", fontsize=14, labelpad=15)\n",
    "\n",
    "# Tick labels\n",
    "ax.set_xticklabels(ax.get_xticklabels(), rotation=45, ha='right', fontsize=11)\n",
    "ax.set_yticklabels(ax.get_yticklabels(), rotation=0, fontsize=11)\n",
    "\n",
    "# Tight layout to prevent label cut-off\n",
    "plt.tight_layout()\n",
    "\n",
    "plt.savefig(\"4.1.png\", dpi=300, bbox_inches='tight')\n",
    "plt.show()"
   ]
  }
 ],
 "metadata": {
  "kernelspec": {
   "display_name": "Python LLMIdentifiersEnv",
   "language": "python",
   "name": "llmidentifiersenv"
  },
  "language_info": {
   "codemirror_mode": {
    "name": "ipython",
    "version": 3
   },
   "file_extension": ".py",
   "mimetype": "text/x-python",
   "name": "python",
   "nbconvert_exporter": "python",
   "pygments_lexer": "ipython3",
   "version": "3.11.11"
  }
 },
 "nbformat": 4,
 "nbformat_minor": 5
}
