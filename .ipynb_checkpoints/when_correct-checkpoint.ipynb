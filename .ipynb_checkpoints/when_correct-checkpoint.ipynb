{
 "cells": [
  {
   "cell_type": "code",
   "execution_count": 17,
   "id": "bf38b10a-95bb-461c-b932-2fcd32ae5138",
   "metadata": {},
   "outputs": [],
   "source": [
    "import json\n",
    "import os\n",
    "import re"
   ]
  },
  {
   "cell_type": "code",
   "execution_count": 18,
   "id": "c80ec104-dbb3-4c4b-af1c-aab9d55b199b",
   "metadata": {},
   "outputs": [
    {
     "name": "stdout",
     "output_type": "stream",
     "text": [
      "Loaded 544 valid JSON result files from 'results/' and its subfolders.\n"
     ]
    }
   ],
   "source": [
    "# Load data\n",
    "folder_path = \"results/\"\n",
    "data = []\n",
    "\n",
    "for root, dirs, files in os.walk(folder_path):\n",
    "    for filename in files:\n",
    "        if filename.endswith(\".json\"):\n",
    "            file_path = os.path.join(root, filename)\n",
    "            match = re.search(r\"log_(\\d+)\\.json\", filename)\n",
    "            try:\n",
    "                with open(file_path, \"r\") as f:\n",
    "                    entry = json.load(f)\n",
    "                    if match:\n",
    "                        entry[\"run_id\"] = int(match.group(1))  # tag with log_x number\n",
    "                    else:\n",
    "                        entry[\"run_id\"] = None  # fallback if not matched\n",
    "                    data.append(entry)\n",
    "            except json.JSONDecodeError as e:\n",
    "                print(f\"Skipped invalid JSON: {file_path} ({e})\")\n",
    "\n",
    "print(f\"Loaded {len(data)} valid JSON result files from '{folder_path}' and its subfolders.\")"
   ]
  },
  {
   "cell_type": "code",
   "execution_count": 19,
   "id": "ee597532-ebb1-4efc-bfbc-595647d733d3",
   "metadata": {},
   "outputs": [
    {
     "name": "stdout",
     "output_type": "stream",
     "text": [
      "llama - qwen - 10\n",
      "llama - qwen - 21\n",
      "llama - qwen - 37\n",
      "llama - qwen - 50\n",
      "llama - qwen - 64\n",
      "llama - qwen - 69\n",
      "llama - qwen - 74\n",
      "llama - qwen - 88\n",
      "llama - qwen - 104\n",
      "llama - qwen - 111\n",
      "llama - qwen - 115\n",
      "llama - qwen - 126\n",
      "llama - qwen - 129\n",
      "llama - qwen - 133\n",
      "llama - qwen - 135\n",
      "llama - qwen - 150\n",
      "llama - qwen - 156\n",
      "llama - qwen - 170\n",
      "llama - qwen - 173\n",
      "qwen - deepseek - 27\n",
      "llama - gpt - 14\n",
      "llama - gpt - 17\n",
      "llama - gpt - 18\n",
      "llama - gpt - 20\n",
      "llama - gpt - 25\n",
      "llama - gpt - 26\n",
      "llama - gpt - 27\n",
      "llama - gpt - 3\n",
      "llama - gpt - 4\n",
      "llama - gpt - 49\n",
      "llama - gpt - 59\n",
      "llama - gpt - 67\n",
      "llama - gpt - 71\n",
      "llama - gpt - 75\n",
      "llama - gpt - 77\n",
      "llama - gpt - 84\n",
      "llama - gpt - 86\n",
      "llama - gpt - 89\n",
      "llama - gpt - 9\n",
      "llama - gpt - 95\n",
      "llama - gpt - 97\n",
      "llama - mistral - 10\n",
      "llama - mistral - 31\n",
      "llama - mistral - 45\n",
      "llama - mistral - 56\n",
      "llama - mistral - 59\n",
      "llama - mistral - 72\n",
      "llama - mistral - 9\n"
     ]
    }
   ],
   "source": [
    "for entry in data:\n",
    "    model_0 = entry[\"model_general_name_0\"].lower()\n",
    "    model_1 = entry[\"model_general_name_1\"].lower()\n",
    "    guess_0 = entry[\"agent_0_guess\"].lower()\n",
    "    guess_1 = entry[\"agent_1_guess\"].lower()\n",
    "\n",
    "    if model_0 == guess_1 or model_1 == guess_0:\n",
    "        print(f\"{model_0} - {model_1} - {entry['run_id']}\")"
   ]
  }
 ],
 "metadata": {
  "kernelspec": {
   "display_name": "Python LLMIdentifiersEnv",
   "language": "python",
   "name": "llmidentifiersenv"
  },
  "language_info": {
   "codemirror_mode": {
    "name": "ipython",
    "version": 3
   },
   "file_extension": ".py",
   "mimetype": "text/x-python",
   "name": "python",
   "nbconvert_exporter": "python",
   "pygments_lexer": "ipython3",
   "version": "3.11.11"
  }
 },
 "nbformat": 4,
 "nbformat_minor": 5
}
