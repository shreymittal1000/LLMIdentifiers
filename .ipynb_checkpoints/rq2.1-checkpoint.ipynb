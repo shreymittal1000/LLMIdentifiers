{
 "cells": [
  {
   "cell_type": "code",
   "execution_count": 1,
   "id": "c99d0d45-50dc-4064-a25f-a5ec5ac4fbc0",
   "metadata": {},
   "outputs": [],
   "source": [
    "import json\n",
    "import os\n",
    "import re\n",
    "import pandas as pd"
   ]
  },
  {
   "cell_type": "code",
   "execution_count": 2,
   "id": "8b34394a-37ca-4f02-86fd-b5af58f95e58",
   "metadata": {},
   "outputs": [
    {
     "name": "stdout",
     "output_type": "stream",
     "text": [
      "Loaded 145 valid JSON result files from 'results/' and its subfolders.\n"
     ]
    }
   ],
   "source": [
    "# Load data\n",
    "folder_path = \"results/\"\n",
    "data = []\n",
    "\n",
    "for root, dirs, files in os.walk(folder_path):\n",
    "    for filename in files:\n",
    "        if filename.endswith(\".json\"):\n",
    "            file_path = os.path.join(root, filename)\n",
    "            try:\n",
    "                with open(file_path, \"r\") as f:\n",
    "                    entry = json.load(f)\n",
    "                    data.append(entry)\n",
    "            except json.JSONDecodeError as e:\n",
    "                print(f\"Skipped invalid JSON: {file_path} ({e})\")\n",
    "\n",
    "print(f\"Loaded {len(data)} valid JSON result files from '{folder_path}' and its subfolders.\")"
   ]
  },
  {
   "cell_type": "code",
   "execution_count": 3,
   "id": "27243e59-3e27-4604-a9bf-8d9cab3f25ac",
   "metadata": {},
   "outputs": [
    {
     "ename": "NameError",
     "evalue": "name 'pd' is not defined",
     "output_type": "error",
     "traceback": [
      "\u001b[31m---------------------------------------------------------------------------\u001b[39m",
      "\u001b[31mNameError\u001b[39m                                 Traceback (most recent call last)",
      "\u001b[36mCell\u001b[39m\u001b[36m \u001b[39m\u001b[32mIn[3]\u001b[39m\u001b[32m, line 33\u001b[39m\n\u001b[32m     23\u001b[39m         records.append({\n\u001b[32m     24\u001b[39m             \u001b[33m\"\u001b[39m\u001b[33magent_id\u001b[39m\u001b[33m\"\u001b[39m: agent_id,\n\u001b[32m     25\u001b[39m             \u001b[33m\"\u001b[39m\u001b[33magent_model\u001b[39m\u001b[33m\"\u001b[39m: entry.get(\u001b[33m\"\u001b[39m\u001b[33mmodel_general_name_0\u001b[39m\u001b[33m\"\u001b[39m) \u001b[38;5;28;01mif\u001b[39;00m agent_id == \u001b[32m0\u001b[39m \u001b[38;5;28;01melse\u001b[39;00m entry.get(\u001b[33m\"\u001b[39m\u001b[33mmodel_general_name_1\u001b[39m\u001b[33m\"\u001b[39m),\n\u001b[32m   (...)\u001b[39m\u001b[32m     29\u001b[39m             \u001b[33m\"\u001b[39m\u001b[33mheading_count\u001b[39m\u001b[33m\"\u001b[39m: count_headings(content),\n\u001b[32m     30\u001b[39m         })\n\u001b[32m     32\u001b[39m \u001b[38;5;66;03m# Create DataFrame and compute summary\u001b[39;00m\n\u001b[32m---> \u001b[39m\u001b[32m33\u001b[39m df = pd.DataFrame(records)\n\u001b[32m     34\u001b[39m grouped = df.groupby(\u001b[33m\"\u001b[39m\u001b[33magent_model\u001b[39m\u001b[33m\"\u001b[39m)\n\u001b[32m     35\u001b[39m summary_mean = grouped.mean(numeric_only=\u001b[38;5;28;01mTrue\u001b[39;00m).reset_index()\n",
      "\u001b[31mNameError\u001b[39m: name 'pd' is not defined"
     ]
    }
   ],
   "source": [
    "# Feature extraction helpers\n",
    "def avg_sentence_length(text):\n",
    "    sentences = re.split(r'[.!?]', text)\n",
    "    sentences = [s for s in sentences if s.strip()]\n",
    "    words = sum(len(s.split()) for s in sentences)\n",
    "    return words / len(sentences) if sentences else 0\n",
    "\n",
    "def count_bullets(text):\n",
    "    return len(re.findall(r\"[-*]\\s\", text))\n",
    "\n",
    "def count_headings(text):\n",
    "    return len(re.findall(r\"^#+\\s\", text, flags=re.MULTILINE))\n",
    "\n",
    "# Process the dialogue data\n",
    "records = []\n",
    "\n",
    "for entry in data:\n",
    "    dialogue = entry.get(\"dialogue\", [])\n",
    "    for turn in dialogue:\n",
    "        role = turn[\"role\"]\n",
    "        agent_id = int(role.split(\"_\")[1])\n",
    "        content = turn[\"content\"]\n",
    "        records.append({\n",
    "            \"agent_id\": agent_id,\n",
    "            \"agent_model\": entry.get(\"model_general_name_0\") if agent_id == 0 else entry.get(\"model_general_name_1\"),\n",
    "            \"sentence_length\": avg_sentence_length(content),\n",
    "            \"content\": content,\n",
    "            \"bullet_count\": count_bullets(content),\n",
    "            \"heading_count\": count_headings(content),\n",
    "        })\n",
    "\n",
    "# Create DataFrame and compute summary\n",
    "df = pd.DataFrame(records)\n",
    "grouped = df.groupby(\"agent_model\")\n",
    "summary_mean = grouped.mean(numeric_only=True).reset_index()\n",
    "summary_std = grouped.std(numeric_only=True).reset_index()\n",
    "summary_df = summary_mean.merge(summary_std, on=\"agent_model\", suffixes=(\"_mean\", \"_std\"))\n",
    "\n",
    "# Combine mean and std columns into formatted strings\n",
    "for feature in ['sentence_length', 'bullet_count', 'heading_count']:\n",
    "    summary_df[f\"{feature} (mean ± std)\"] = summary_df[f\"{feature}_mean\"].round(1).astype(str) + \" ± \" + summary_df[f\"{feature}_std\"].round(1).astype(str)\n",
    "\n",
    "# Final DataFrame with combined results\n",
    "final_df = summary_df[[\"agent_model\"] + [f\"{f} (mean ± std)\" for f in ['sentence_length', 'bullet_count', 'heading_count']]]\n",
    "final_df.columns = [\"Model\", \"Avg Sentence Length\", \"Bullet Count\", \"Heading Count\"]\n",
    "\n",
    "print(final_df.to_latex(index=False))"
   ]
  }
 ],
 "metadata": {
  "kernelspec": {
   "display_name": "Python LLMIdentifiersEnv",
   "language": "python",
   "name": "llmidentifiersenv"
  },
  "language_info": {
   "codemirror_mode": {
    "name": "ipython",
    "version": 3
   },
   "file_extension": ".py",
   "mimetype": "text/x-python",
   "name": "python",
   "nbconvert_exporter": "python",
   "pygments_lexer": "ipython3",
   "version": "3.11.11"
  }
 },
 "nbformat": 4,
 "nbformat_minor": 5
}
