{
 "cells": [
  {
   "cell_type": "code",
   "execution_count": 1,
   "id": "c99d0d45-50dc-4064-a25f-a5ec5ac4fbc0",
   "metadata": {},
   "outputs": [],
   "source": [
    "import json\n",
    "import os\n",
    "import re\n",
    "import pandas as pd"
   ]
  },
  {
   "cell_type": "code",
   "execution_count": 2,
   "id": "8b34394a-37ca-4f02-86fd-b5af58f95e58",
   "metadata": {},
   "outputs": [
    {
     "name": "stdout",
     "output_type": "stream",
     "text": [
      "Loaded 0 valid JSON result files from 'results/base/' and its subfolders.\n"
     ]
    }
   ],
   "source": [
    "# Load data\n",
    "folder_path = \"../results/base/\"\n",
    "data = []\n",
    "\n",
    "for root, dirs, files in os.walk(folder_path):\n",
    "    for filename in files:\n",
    "        if filename.endswith(\".json\"):\n",
    "            file_path = os.path.join(root, filename)\n",
    "            try:\n",
    "                with open(file_path, \"r\") as f:\n",
    "                    entry = json.load(f)\n",
    "                    data.append(entry)\n",
    "            except json.JSONDecodeError as e:\n",
    "                print(f\"Skipped invalid JSON: {file_path} ({e})\")\n",
    "\n",
    "print(f\"Loaded {len(data)} valid JSON result files from '{folder_path}' and its subfolders.\")"
   ]
  },
  {
   "cell_type": "code",
   "execution_count": 5,
   "id": "27243e59-3e27-4604-a9bf-8d9cab3f25ac",
   "metadata": {},
   "outputs": [
    {
     "name": "stdout",
     "output_type": "stream",
     "text": [
      "\\begin{tabular}{llll}\n",
      "\\toprule\n",
      "Model & Avg Sentence Length & Bullet Count & Heading Count \\\\\n",
      "\\midrule\n",
      "deepseek & 14.7 ± 8.8 & 23.5 ± 20.9 & 2.2 ± 3.8 \\\\\n",
      "llama & 17.4 ± 3.8 & 4.9 ± 9.5 & 0.7 ± 2.1 \\\\\n",
      "qwen & 9.1 ± 6.5 & 33.8 ± 27.8 & 4.8 ± 4.5 \\\\\n",
      "\\bottomrule\n",
      "\\end{tabular}\n",
      "\n"
     ]
    }
   ],
   "source": [
    "# Feature extraction helpers\n",
    "def avg_sentence_length(text):\n",
    "    sentences = re.split(r'[.!?]', text)\n",
    "    sentences = [s for s in sentences if s.strip()]\n",
    "    words = sum(len(s.split()) for s in sentences)\n",
    "    return words / len(sentences) if sentences else 0\n",
    "\n",
    "def count_bullets(text):\n",
    "    return len(re.findall(r\"[-*]\\s\", text))\n",
    "\n",
    "def count_headings(text):\n",
    "    return len(re.findall(r\"^#+\\s\", text, flags=re.MULTILINE))\n",
    "\n",
    "# Process the dialogue data\n",
    "records = []\n",
    "\n",
    "for entry in data:\n",
    "    dialogue = entry.get(\"dialogue\", [])\n",
    "    for turn in dialogue:\n",
    "        role = turn[\"role\"]\n",
    "        agent_id = int(role.split(\"_\")[1])\n",
    "        content = turn[\"content\"]\n",
    "        records.append({\n",
    "            \"agent_id\": agent_id,\n",
    "            \"agent_model\": entry.get(\"model_general_name_0\") if agent_id == 0 else entry.get(\"model_general_name_1\"),\n",
    "            \"sentence_length\": avg_sentence_length(content),\n",
    "            \"content\": content,\n",
    "            \"bullet_count\": count_bullets(content),\n",
    "            \"heading_count\": count_headings(content),\n",
    "        })\n",
    "\n",
    "# Create DataFrame and compute summary\n",
    "df = pd.DataFrame(records)\n",
    "grouped = df.groupby(\"agent_model\")\n",
    "summary_mean = grouped.mean(numeric_only=True).reset_index()\n",
    "summary_std = grouped.std(numeric_only=True).reset_index()\n",
    "summary_df = summary_mean.merge(summary_std, on=\"agent_model\", suffixes=(\"_mean\", \"_std\"))\n",
    "\n",
    "# Combine mean and std columns into formatted strings\n",
    "for feature in ['sentence_length', 'bullet_count', 'heading_count']:\n",
    "    summary_df[f\"{feature} (mean ± std)\"] = summary_df[f\"{feature}_mean\"].round(1).astype(str) + \" ± \" + summary_df[f\"{feature}_std\"].round(1).astype(str)\n",
    "\n",
    "# Final DataFrame with combined results\n",
    "final_df = summary_df[[\"agent_model\"] + [f\"{f} (mean ± std)\" for f in ['sentence_length', 'bullet_count', 'heading_count']]]\n",
    "final_df.columns = [\"Model\", \"Avg Sentence Length\", \"Bullet Count\", \"Heading Count\"]\n",
    "\n",
    "print(final_df.to_latex(index=False))"
   ]
  }
 ],
 "metadata": {
  "kernelspec": {
   "display_name": "Python LLMIdentifiersEnv",
   "language": "python",
   "name": "llmidentifiersenv"
  },
  "language_info": {
   "codemirror_mode": {
    "name": "ipython",
    "version": 3
   },
   "file_extension": ".py",
   "mimetype": "text/x-python",
   "name": "python",
   "nbconvert_exporter": "python",
   "pygments_lexer": "ipython3",
   "version": "3.11.11"
  }
 },
 "nbformat": 4,
 "nbformat_minor": 5
}
