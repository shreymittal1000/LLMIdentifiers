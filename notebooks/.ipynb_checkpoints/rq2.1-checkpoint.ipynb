{
 "cells": [
  {
   "cell_type": "code",
   "execution_count": 1,
   "id": "c99d0d45-50dc-4064-a25f-a5ec5ac4fbc0",
   "metadata": {},
   "outputs": [],
   "source": [
    "import json\n",
    "import os\n",
    "import re\n",
    "import pandas as pd\n",
    "import numpy as np"
   ]
  },
  {
   "cell_type": "code",
   "execution_count": 2,
   "id": "8b34394a-37ca-4f02-86fd-b5af58f95e58",
   "metadata": {},
   "outputs": [
    {
     "name": "stdout",
     "output_type": "stream",
     "text": [
      "Loaded 4218 valid JSON result files from '../results/base/' and its subfolders.\n"
     ]
    }
   ],
   "source": [
    "# Load data\n",
    "folder_path = \"../results/base/\"\n",
    "data = []\n",
    "\n",
    "for root, dirs, files in os.walk(folder_path):\n",
    "    for filename in files:\n",
    "        if filename.endswith(\".json\"):\n",
    "            file_path = os.path.join(root, filename)\n",
    "            try:\n",
    "                with open(file_path, \"r\") as f:\n",
    "                    entry = json.load(f)\n",
    "                    data.append(entry)\n",
    "            except json.JSONDecodeError as e:\n",
    "                print(f\"Skipped invalid JSON: {file_path} ({e})\")\n",
    "\n",
    "print(f\"Loaded {len(data)} valid JSON result files from '{folder_path}' and its subfolders.\")"
   ]
  },
  {
   "cell_type": "code",
   "execution_count": 4,
   "id": "27243e59-3e27-4604-a9bf-8d9cab3f25ac",
   "metadata": {},
   "outputs": [
    {
     "ename": "NameError",
     "evalue": "name 'np' is not defined",
     "output_type": "error",
     "traceback": [
      "\u001b[31m---------------------------------------------------------------------------\u001b[39m",
      "\u001b[31mNameError\u001b[39m                                 Traceback (most recent call last)",
      "\u001b[36mCell\u001b[39m\u001b[36m \u001b[39m\u001b[32mIn[4]\u001b[39m\u001b[32m, line 43\u001b[39m\n\u001b[32m     41\u001b[39m mean = summary_df[\u001b[33mf\u001b[39m\u001b[33m\"\u001b[39m\u001b[38;5;132;01m{\u001b[39;00mfeature\u001b[38;5;132;01m}\u001b[39;00m\u001b[33m_mean\u001b[39m\u001b[33m\"\u001b[39m]\n\u001b[32m     42\u001b[39m std = summary_df[\u001b[33mf\u001b[39m\u001b[33m\"\u001b[39m\u001b[38;5;132;01m{\u001b[39;00mfeature\u001b[38;5;132;01m}\u001b[39;00m\u001b[33m_std\u001b[39m\u001b[33m\"\u001b[39m]\n\u001b[32m---> \u001b[39m\u001b[32m43\u001b[39m lower = np.maximum(mean - std, \u001b[32m0\u001b[39m).round(\u001b[32m1\u001b[39m)\n\u001b[32m     44\u001b[39m upper = (mean + std).round(\u001b[32m1\u001b[39m)\n\u001b[32m     45\u001b[39m summary_df[\u001b[33mf\u001b[39m\u001b[33m\"\u001b[39m\u001b[38;5;132;01m{\u001b[39;00mfeature\u001b[38;5;132;01m}\u001b[39;00m\u001b[33m (mean ± std)\u001b[39m\u001b[33m\"\u001b[39m] = lower.astype(\u001b[38;5;28mstr\u001b[39m) + \u001b[33m\"\u001b[39m\u001b[33m–\u001b[39m\u001b[33m\"\u001b[39m + upper.astype(\u001b[38;5;28mstr\u001b[39m)\n",
      "\u001b[31mNameError\u001b[39m: name 'np' is not defined"
     ]
    }
   ],
   "source": [
    "# Feature extraction helpers\n",
    "def avg_sentence_length(text):\n",
    "    sentences = re.split(r'[.!?]', text)\n",
    "    sentences = [s for s in sentences if s.strip()]\n",
    "    words = sum(len(s.split()) for s in sentences)\n",
    "    return words / len(sentences) if sentences else 0\n",
    "\n",
    "def count_bullets(text):\n",
    "    return len(re.findall(r\"[-*]\\s\", text))\n",
    "\n",
    "def count_headings(text):\n",
    "    return len(re.findall(r\"^#+\\s\", text, flags=re.MULTILINE))\n",
    "\n",
    "# Process the dialogue data\n",
    "records = []\n",
    "\n",
    "for entry in data:\n",
    "    dialogue = entry.get(\"dialogue\", [])\n",
    "    for turn in dialogue:\n",
    "        role = turn[\"role\"]\n",
    "        agent_id = int(role.split(\"_\")[1])\n",
    "        content = turn[\"content\"]\n",
    "        records.append({\n",
    "            \"agent_id\": agent_id,\n",
    "            \"agent_model\": entry.get(\"model_general_name_0\") if agent_id == 0 else entry.get(\"model_general_name_1\"),\n",
    "            \"sentence_length\": avg_sentence_length(content),\n",
    "            \"content\": content,\n",
    "            \"bullet_count\": count_bullets(content),\n",
    "            \"heading_count\": count_headings(content),\n",
    "        })\n",
    "\n",
    "# Create DataFrame and compute summary\n",
    "df = pd.DataFrame(records)\n",
    "grouped = df.groupby(\"agent_model\")\n",
    "summary_mean = grouped.mean(numeric_only=True).reset_index()\n",
    "summary_std = grouped.std(numeric_only=True).reset_index()\n",
    "summary_df = summary_mean.merge(summary_std, on=\"agent_model\", suffixes=(\"_mean\", \"_std\"))\n",
    "\n",
    "# Combine mean and std columns into formatted strings\n",
    "for feature in ['sentence_length', 'bullet_count', 'heading_count']:\n",
    "    mean = summary_df[f\"{feature}_mean\"]\n",
    "    std = summary_df[f\"{feature}_std\"]\n",
    "    lower = np.maximum(mean - std, 0).round(1)\n",
    "    upper = (mean + std).round(1)\n",
    "    summary_df[f\"{feature} (mean ± std)\"] = lower.astype(str) + \"–\" + upper.astype(str)\n",
    "\n",
    "# Final DataFrame with combined results\n",
    "final_df = summary_df[[\"agent_model\"] + [f\"{f} (mean ± std)\" for f in ['sentence_length', 'bullet_count', 'heading_count']]]\n",
    "final_df.columns = [\"Model\", \"Avg Sentence Length\", \"Bullet Count\", \"Heading Count\"]\n",
    "\n",
    "print(final_df.to_latex(index=False))"
   ]
  }
 ],
 "metadata": {
  "kernelspec": {
   "display_name": "Python LLMIdentifiersEnv",
   "language": "python",
   "name": "llmidentifiersenv"
  },
  "language_info": {
   "codemirror_mode": {
    "name": "ipython",
    "version": 3
   },
   "file_extension": ".py",
   "mimetype": "text/x-python",
   "name": "python",
   "nbconvert_exporter": "python",
   "pygments_lexer": "ipython3",
   "version": "3.11.11"
  }
 },
 "nbformat": 4,
 "nbformat_minor": 5
}
